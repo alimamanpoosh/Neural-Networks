{
  "cells": [
    {
      "attachments": {},
      "cell_type": "markdown",
      "metadata": {
        "id": "CpSPZXt8IRjT"
      },
      "source": [
        "NAS implementation\n"
      ]
    },
    {
      "attachments": {},
      "cell_type": "markdown",
      "metadata": {
        "id": "5VxMI9YbIgud"
      },
      "source": [
        "Genetic Algorithm for find the best neural architecture"
      ]
    },
    {
      "attachments": {},
      "cell_type": "markdown",
      "metadata": {
        "id": "cEEsYyrzT_I3"
      },
      "source": [
        "Create population"
      ]
    },
    {
      "cell_type": "code",
      "execution_count": null,
      "metadata": {
        "id": "OYWmfWgDXhCc"
      },
      "outputs": [],
      "source": [
        "import random\n",
        "import torch\n",
        "import torch.nn as nn\n",
        "import torchvision.models as models\n",
        "import torchvision.transforms as transforms\n",
        "import torchvision.datasets as datasets"
      ]
    },
    {
      "cell_type": "code",
      "execution_count": null,
      "metadata": {
        "id": "0tNlebIXXmbC"
      },
      "outputs": [],
      "source": [
        "type_feature_extraction = \"feature extraction\"\n",
        "hidden_layer = \"hidden layer\"\n",
        "type_activation_function = \"activation function\"\n",
        "fitness = 'fitness'\n",
        "\n",
        "num_of_generations = 10\n",
        "num_of_chromosomes = 10\n",
        "\n",
        "crossover_rate = 0.8 # select parents for crossover with this rate\n",
        "mutation_rate = 0.01"
      ]
    },
    {
      "cell_type": "code",
      "execution_count": null,
      "metadata": {
        "id": "msyQkT_CUIuL"
      },
      "outputs": [],
      "source": [
        "def create_chromosomes(num_chromosomes):\n",
        "    chromosomes = []\n",
        "    for i in range(num_chromosomes):\n",
        "        chro = dict()\n",
        "        chro[type_feature_extraction] = random.randint(1,3)\n",
        "        num_hidden_layer = random.randint(0, 2)\n",
        "        chro[hidden_layer] = [random.choice([10, 20, 30]) for _ in range(num_hidden_layer)]\n",
        "        chro[type_activation_function] = [random.choice([1, 2]) for _ in range(num_hidden_layer + 1)]\n",
        "        chro[fitness] = 0.0\n",
        "        chromosomes.append(chro)\n",
        "\n",
        "    return chromosomes"
      ]
    },
    {
      "cell_type": "code",
      "execution_count": null,
      "metadata": {
        "id": "yz9M5hBEkdlQ"
      },
      "outputs": [],
      "source": [
        "def evaluate_fitness_population(population):\n",
        "    pass"
      ]
    },
    {
      "cell_type": "code",
      "execution_count": null,
      "metadata": {},
      "outputs": [],
      "source": [
        "def select_parents(population):\n",
        "    num_selected = int(crossover_rate*len(population))\n",
        "    return population[:num_selected]"
      ]
    },
    {
      "cell_type": "code",
      "execution_count": null,
      "metadata": {},
      "outputs": [],
      "source": [
        "def crossover_feature(parent1, parent2):\n",
        "    parent1 , parent2 = parent2 , parent1\n",
        "    return parent1 , parent2"
      ]
    },
    {
      "cell_type": "code",
      "execution_count": null,
      "metadata": {},
      "outputs": [],
      "source": [
        "def crossover_layer_activation(parent1_layer, parent2_layer, parent1_active, parent2_active):\n",
        "    parent1_len = len(parent1_layer)\n",
        "    parent2_len = len(parent2_layer)\n",
        "    \n",
        "    if parent1_len - parent2_len == -1:\n",
        "        value = parent2_layer.pop()\n",
        "        parent1_layer.append(value)\n",
        "        value = parent2_active.pop()\n",
        "        parent1_active.append(value)\n",
        "\n",
        "    elif parent1_len - parent2_len == 1:\n",
        "        value = parent1_layer.pop()\n",
        "        parent2_layer.append(value)\n",
        "        value = parent1_active.pop()\n",
        "        parent2_active.append(value)\n",
        "\n",
        "    elif parent1_len == parent2_len and parent1_len != 0:\n",
        "        parent1_layer[-1], parent2_layer[-1] = parent2_layer[-1], parent1_layer[-1]\n",
        "        parent1_active[-1], parent2_active[-1] = parent2_active[-1], parent1_active[-1]\n",
        "\n",
        "    else:\n",
        "        if parent2_len >parent1_len:\n",
        "            value = parent2_layer.pop()\n",
        "            parent1_layer.append(value)\n",
        "            value = parent2_active.pop()\n",
        "            parent1_active.append(value)\n",
        "        else:\n",
        "            value = parent1_layer.pop()\n",
        "            parent2_layer.append(value)\n",
        "            value = parent1_active.pop()\n",
        "            parent2_active.append(value)\n",
        "    \n",
        "    \n",
        "    return parent1_layer, parent2_layer, parent1_active, parent2_active"
      ]
    },
    {
      "cell_type": "code",
      "execution_count": null,
      "metadata": {},
      "outputs": [],
      "source": [
        "def crossover(parents):\n",
        "    offspring = list()\n",
        "    for i in range(int(len(parents)/2)):\n",
        "        child1 = dict()\n",
        "        child2 = dict()\n",
        "\n",
        "        child1[type_feature_extraction], child2[type_feature_extraction] = crossover_feature(parents[2*i][type_feature_extraction], parents[2*i+1][type_feature_extraction])\n",
        "        child1[hidden_layer], child2[hidden_layer], child1[type_activation_function], child2[type_activation_function] = crossover_layer_activation(parents[2*i][hidden_layer], parents[2*i+1][hidden_layer],parents[2*i][type_activation_function], parents[2*i+1][type_activation_function])\n",
        "\n",
        "        child1[fitness] = 0\n",
        "        child2[fitness] = 0\n",
        "        \n",
        "        offspring.append(child1)\n",
        "        offspring.append(child2)\n",
        "    \n",
        "    return offspring\n",
        "        "
      ]
    },
    {
      "cell_type": "code",
      "execution_count": null,
      "metadata": {},
      "outputs": [],
      "source": [
        "def mutation_feature(parent):\n",
        "    parent = random.randint(1,3)\n",
        "    return parent"
      ]
    },
    {
      "cell_type": "code",
      "execution_count": null,
      "metadata": {},
      "outputs": [],
      "source": [
        "def mutation_activition(parent):\n",
        "    index = random.randint(0, len(parent)-1)\n",
        "    parent[index] = random.randint(1,2)\n",
        "    return parent"
      ]
    },
    {
      "cell_type": "code",
      "execution_count": null,
      "metadata": {},
      "outputs": [],
      "source": [
        "def mutation_layer(parent):\n",
        "    index = random.randint(0, len(parent)-1)\n",
        "    parent[index] = random.choice([10, 20, 30])\n",
        "    return parent"
      ]
    },
    {
      "cell_type": "code",
      "execution_count": null,
      "metadata": {},
      "outputs": [],
      "source": [
        "def mutate(offspring):\n",
        "    for child in offspring:\n",
        "        if random.uniform(0, 1) <= mutation_rate:\n",
        "            child[type_feature_extraction] = mutation_feature(child[type_feature_extraction])\n",
        "        if random.uniform(0, 1) <= mutation_rate:\n",
        "            child[type_activation_function] = mutation_activition(child[type_activation_function])\n",
        "        if random.uniform(0, 1) <= mutation_rate:\n",
        "            child[hidden_layer] = mutation_layer(child[hidden_layer])\n",
        "    \n",
        "    return offspring"
      ]
    },
    {
      "cell_type": "code",
      "execution_count": null,
      "metadata": {},
      "outputs": [],
      "source": [
        "def select_survivors(population, offspring):\n",
        "    while(len(offspring) > 0):\n",
        "        best_child = max(offspring, key=lambda x: x[fitness])\n",
        "        bad_parent = min(population, key=lambda x: x[fitness])\n",
        "        if best_child[fitness] > bad_parent[fitness]:\n",
        "            population.remove(bad_parent)\n",
        "            population.append(best_child)\n",
        "            offspring.remove(best_child)\n",
        "        else:\n",
        "            break\n",
        "    \n",
        "    return population"
      ]
    },
    {
      "cell_type": "code",
      "execution_count": null,
      "metadata": {
        "id": "R3IYvCn9IeBf"
      },
      "outputs": [],
      "source": [
        "def genetic_algorithm():\n",
        "    # Initialize population\n",
        "    population = create_chromosomes(num_of_chromosomes)\n",
        "\n",
        "    # Evaluate population fitness\n",
        "    # fitness = accuracy of the model \n",
        "    evaluate_fitness_population(population)\n",
        "\n",
        "    # Sort population\n",
        "    population.sort(key = lambda x: x[fitness])\n",
        "\n",
        "    # While termination condition is not met\n",
        "    for _ in range(num_of_generations):\n",
        "        # Select parents\n",
        "        parents = select_parents(population)\n",
        "\n",
        "        # Apply crossover / mutation operators\n",
        "        offspring = crossover(parents)\n",
        "        mutate(offspring)\n",
        "\n",
        "        # Evaluate offspring\n",
        "        evaluate_fitness_population(offspring)\n",
        "\n",
        "        # Select survivors\n",
        "        population = select_survivors(population, offspring)\n",
        "\n",
        "        # Sort population\n",
        "        population.sort(key = lambda x: x[fitness])\n",
        "\n",
        "    return max(population, key=lambda x: x[fitness])   # Return best individual in population"
      ]
    }
  ],
  "metadata": {
    "colab": {
      "provenance": []
    },
    "kernelspec": {
      "display_name": "Python 3",
      "name": "python3"
    },
    "language_info": {
      "name": "python"
    }
  },
  "nbformat": 4,
  "nbformat_minor": 0
}
