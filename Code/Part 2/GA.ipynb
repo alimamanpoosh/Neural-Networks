{
  "cells": [
    {
      "cell_type": "markdown",
      "metadata": {
        "id": "CpSPZXt8IRjT"
      },
      "source": [
        "NAS implementation\n"
      ]
    },
    {
      "cell_type": "markdown",
      "metadata": {
        "id": "5VxMI9YbIgud"
      },
      "source": [
        "Genetic Algorithm for find the best neural architecture"
      ]
    },
    {
      "cell_type": "markdown",
      "metadata": {
        "id": "cEEsYyrzT_I3"
      },
      "source": [
        "Create population"
      ]
    },
    {
      "cell_type": "code",
      "execution_count": 1,
      "metadata": {
        "id": "OYWmfWgDXhCc"
      },
      "outputs": [],
      "source": [
        "import random\n",
        "import torch\n",
        "import torch.nn as nn\n",
        "import torchvision.models as models\n",
        "import torchvision.transforms as transforms\n",
        "import torchvision.datasets as datasets"
      ]
    },
    {
      "cell_type": "code",
      "execution_count": 2,
      "metadata": {
        "id": "0tNlebIXXmbC"
      },
      "outputs": [],
      "source": [
        "type_feature_extraction = \"feature extraction\"\n",
        "hidden_layer = \"hidden layer\"\n",
        "type_activation_function = \"activation function\"\n",
        "fitness = 'fitness'\n",
        "\n",
        "num_of_generations = 10\n",
        "num_of_chromosomes = 10\n",
        "\n",
        "num_epochs = 5\n",
        "num_exe = 5\n",
        "\n",
        "crossover_rate = 0.8 # select parents for crossover with this rate\n",
        "mutation_rate = 0.01"
      ]
    },
    {
      "cell_type": "code",
      "execution_count": 3,
      "metadata": {
        "id": "msyQkT_CUIuL"
      },
      "outputs": [],
      "source": [
        "def create_chromosomes(num_chromosomes):\n",
        "    chromosomes = []\n",
        "    for i in range(num_chromosomes):\n",
        "        chro = dict()\n",
        "        chro[type_feature_extraction] = random.randint(1,3)\n",
        "        num_hidden_layer = random.randint(0, 2)\n",
        "        chro[hidden_layer] = [random.choice([10, 20, 30]) for _ in range(num_hidden_layer)]\n",
        "        chro[type_activation_function] = [random.choice([1, 2]) for _ in range(num_hidden_layer + 1)]\n",
        "        chro[fitness] = 0.0\n",
        "        chromosomes.append(chro)\n",
        "\n",
        "    return chromosomes"
      ]
    },
    {
      "cell_type": "code",
      "execution_count": 4,
      "metadata": {
        "colab": {
          "base_uri": "https://localhost:8080/"
        },
        "id": "Pt7htHBbuFSf",
        "outputId": "657acf8e-b115-4eec-9937-073036b30baa"
      },
      "outputs": [
        {
          "name": "stdout",
          "output_type": "stream",
          "text": [
            "[{'feature extraction': 1, 'hidden layer': [30, 30], 'activation function': [2, 2, 2], 'fitness': 0.0}, {'feature extraction': 1, 'hidden layer': [], 'activation function': [2], 'fitness': 0.0}, {'feature extraction': 2, 'hidden layer': [30, 30], 'activation function': [2, 1, 1], 'fitness': 0.0}, {'feature extraction': 2, 'hidden layer': [30], 'activation function': [2, 2], 'fitness': 0.0}]\n"
          ]
        }
      ],
      "source": [
        "print(create_chromosomes(4))"
      ]
    },
    {
      "cell_type": "markdown",
      "metadata": {
        "id": "BGXJa4JSuFSh"
      },
      "source": [
        "## Models"
      ]
    },
    {
      "cell_type": "code",
      "execution_count": 5,
      "metadata": {
        "id": "IFFDxAXIuFSh"
      },
      "outputs": [],
      "source": [
        "class MLP_0hidden(nn.Module):\n",
        "    def __init__(self, input_size, output_size, activation):\n",
        "        super(MLP_0hidden, self).__init__()\n",
        "        self.fc1 = nn.LazyLinear(output_size)\n",
        "        # self.activation_output = nn.ReLU() if torch.rand(1) > 0.5 else nn.Sigmoid()\n",
        "        if activation[0] == 1:\n",
        "            self.activation_input = nn.ReLU()\n",
        "        elif activation[0] == 2:\n",
        "            self.activation_input = nn.Sigmoid()\n",
        "        self.activation_output = nn.Softmax(dim=1)\n",
        "\n",
        "    def forward(self, x):\n",
        "        x = self.activation_input(x)\n",
        "        x = self.fc1(x)\n",
        "        x = self.activation_output(x)\n",
        "        return x\n",
        "    \n",
        "\n",
        "class MLP_1hidden(nn.Module):\n",
        "    def __init__(self, hidden_layer, activations):\n",
        "        hidden_size = hidden_layer[0]\n",
        "        output_size = 10\n",
        "        super(MLP_1hidden, self).__init__()\n",
        "        self.fc1 = nn.LazyLinear(hidden_size)\n",
        "        self.fc2 = nn.Linear(hidden_size, output_size)\n",
        "        \n",
        "        if activations[0] == 1:\n",
        "            self.activation_input = nn.ReLU()\n",
        "        elif activations[0] == 2:\n",
        "            self.activation_input = nn.Sigmoid()\n",
        "        \n",
        "        if activations[1] == 1:\n",
        "            self.activation_hidden1 = nn.ReLU()\n",
        "        elif activations[1] == 2:\n",
        "            self.activation_hidden1 = nn.Sigmoid()\n",
        "        \n",
        "        self.activation_output  = nn.Softmax(dim=1)\n",
        "\n",
        "    def forward(self, x):\n",
        "        x = self.activation_input(x)\n",
        "        x = self.fc1(x)\n",
        "        x = self.activation_hidden1(x)\n",
        "        x = self.fc2(x)\n",
        "        x = self.activation_output(x)\n",
        "        return x\n",
        "    \n",
        "\n",
        "\n",
        "class MLP_2hidden(nn.Module):\n",
        "    def __init__(self, hidden_layer, activations):\n",
        "        super(MLP_2hidden, self).__init__()\n",
        "        hidden1_size = hidden_layer[0]\n",
        "        hidden2_size = hidden_layer[1]\n",
        "        output_size = 10\n",
        "        self.fc1 = nn.LazyLinear(hidden1_size)\n",
        "        self.fc2 = nn.Linear(hidden1_size, hidden2_size)\n",
        "        self.fc3 = nn.Linear(hidden2_size, output_size)\n",
        "        \n",
        "        if activations[0] == 1:\n",
        "            self.activation_input = nn.ReLU()\n",
        "        elif activations[0] == 2:\n",
        "            self.activation_input = nn.Sigmoid()\n",
        "            \n",
        "        if activations[1] == 1 :\n",
        "            self.activation_hidden1 = nn.ReLU()\n",
        "        elif activations[1] == 2:\n",
        "            self.activation_hidden1 = nn.Sigmoid()\n",
        "        \n",
        "        if activations[2] == 1:\n",
        "            self.activation_hidden2 = nn.ReLU()\n",
        "        elif activations[2] == 2:\n",
        "            self.activation_hidden2 = nn.Sigmoid()\n",
        "        \n",
        "        \n",
        "        \n",
        "        self.activation_output = nn.Softmax(dim=1)        \n",
        "\n",
        "    def forward(self, x):\n",
        "        x = self.activation_input(x)\n",
        "        x = self.fc1(x)\n",
        "        x = self.activation_hidden1(x)\n",
        "        x = self.fc2(x)\n",
        "        x = self.activation_hidden2(x)\n",
        "        x = self.fc3(x)\n",
        "        x = self.activation_output(x)\n",
        "        return x"
      ]
    },
    {
      "cell_type": "code",
      "execution_count": null,
      "metadata": {
        "colab": {
          "base_uri": "https://localhost:8080/"
        },
        "id": "5vnIU-pduFSl",
        "outputId": "99c92bf8-059c-42d3-d737-10b63e7b36c3"
      },
      "outputs": [
        {
          "name": "stdout",
          "output_type": "stream",
          "text": [
            "Downloading https://www.cs.toronto.edu/~kriz/cifar-10-python.tar.gz to ./data/cifar-10-python.tar.gz\n"
          ]
        },
        {
          "name": "stderr",
          "output_type": "stream",
          "text": [
            "100%|██████████| 170498071/170498071 [00:02<00:00, 77513267.56it/s]\n"
          ]
        },
        {
          "name": "stdout",
          "output_type": "stream",
          "text": [
            "Extracting ./data/cifar-10-python.tar.gz to ./data\n",
            "Files already downloaded and verified\n"
          ]
        },
        {
          "name": "stderr",
          "output_type": "stream",
          "text": [
            "/usr/local/lib/python3.10/dist-packages/torchvision/models/_utils.py:208: UserWarning: The parameter 'pretrained' is deprecated since 0.13 and may be removed in the future, please use 'weights' instead.\n",
            "  warnings.warn(\n",
            "/usr/local/lib/python3.10/dist-packages/torchvision/models/_utils.py:223: UserWarning: Arguments other than a weight enum or `None` for 'weights' are deprecated since 0.13 and may be removed in the future. The current behavior is equivalent to passing `weights=ResNet18_Weights.IMAGENET1K_V1`. You can also use `weights=ResNet18_Weights.DEFAULT` to get the most up-to-date weights.\n",
            "  warnings.warn(msg)\n",
            "Downloading: \"https://download.pytorch.org/models/resnet18-f37072fd.pth\" to /root/.cache/torch/hub/checkpoints/resnet18-f37072fd.pth\n",
            "100%|██████████| 44.7M/44.7M [00:00<00:00, 176MB/s]\n",
            "/usr/local/lib/python3.10/dist-packages/torchvision/models/_utils.py:223: UserWarning: Arguments other than a weight enum or `None` for 'weights' are deprecated since 0.13 and may be removed in the future. The current behavior is equivalent to passing `weights=ResNet34_Weights.IMAGENET1K_V1`. You can also use `weights=ResNet34_Weights.DEFAULT` to get the most up-to-date weights.\n",
            "  warnings.warn(msg)\n",
            "Downloading: \"https://download.pytorch.org/models/resnet34-b627a593.pth\" to /root/.cache/torch/hub/checkpoints/resnet34-b627a593.pth\n",
            "100%|██████████| 83.3M/83.3M [00:00<00:00, 96.9MB/s]\n",
            "/usr/local/lib/python3.10/dist-packages/torchvision/models/_utils.py:223: UserWarning: Arguments other than a weight enum or `None` for 'weights' are deprecated since 0.13 and may be removed in the future. The current behavior is equivalent to passing `weights=VGG11_Weights.IMAGENET1K_V1`. You can also use `weights=VGG11_Weights.DEFAULT` to get the most up-to-date weights.\n",
            "  warnings.warn(msg)\n",
            "Downloading: \"https://download.pytorch.org/models/vgg11-8a719046.pth\" to /root/.cache/torch/hub/checkpoints/vgg11-8a719046.pth\n",
            "100%|██████████| 507M/507M [00:03<00:00, 156MB/s] \n"
          ]
        }
      ],
      "source": [
        "torch.manual_seed(42)\n",
        "\n",
        "transform = transforms.Compose([\n",
        "    transforms.ToTensor(),\n",
        "    transforms.Normalize((0.5, 0.5, 0.5), (0.5, 0.5, 0.5))\n",
        "])\n",
        "\n",
        "train_dataset = datasets.CIFAR10(root='./data', train=True, download=True, transform=transform)\n",
        "test_dataset = datasets.CIFAR10(root='./data', train=False, download=True, transform=transform)\n",
        "\n",
        "train_loader = torch.utils.data.DataLoader(train_dataset, batch_size=128, shuffle=True)\n",
        "\n",
        "device = torch.device(\"cuda\" if torch.cuda.is_available() else \"cpu\")\n",
        "\n",
        "feature_list = list()\n",
        "for images, labels in train_loader:\n",
        "        img = images.to(device)  # Move input tensor to the same device as the model\n",
        "        lbl = labels.to(device)  # Move label tensor to the same device as the model\n",
        "\n",
        "        # Feature extraction using the pre-trained model\n",
        "        with torch.no_grad():\n",
        "            feature_extraction = models.resnet18(pretrained=True)\n",
        "            feature_extraction = nn.Sequential(*list(feature_extraction.children())[:-1])  # Remove the last fully connected layer\n",
        "            feature_extraction = feature_extraction.to(device)            # Move feature extraction model to the same device as the model\n",
        "            features1 = feature_extraction(img)\n",
        "            features1 = features1.view(features1.size(0), -1)\n",
        "\n",
        "            feature_extraction = models.resnet34(pretrained=True)\n",
        "            feature_extraction = nn.Sequential(*list(feature_extraction.children())[:-1])  # Remove the last fully connected layer\n",
        "            feature_extraction = feature_extraction.to(device)            # Move feature extraction model to the same device as the model\n",
        "            features2 = feature_extraction(img)\n",
        "            features2 = features2.view(features2.size(0), -1)\n",
        "            \n",
        "            feature_extraction = models.vgg11(pretrained=True)\n",
        "            feature_extraction = nn.Sequential(*list(feature_extraction.children())[:-1])  # Remove the last fully connected layer\n",
        "            feature_extraction = feature_extraction.to(device)            # Move feature extraction model to the same device as the model\n",
        "            features3 = feature_extraction(img)\n",
        "            features3 = features3.view(features3.size(0), -1)\n",
        "\n",
        "        feature_list.append([features1, features1, features1])\n",
        "\n",
        "\n",
        "test_loader = torch.utils.data.DataLoader(test_dataset, batch_size=128, shuffle=False)\n",
        "        \n",
        "criterion = nn.CrossEntropyLoss()\n",
        "\n",
        "\n",
        "def train(model, chromosome):\n",
        "    optimizer = torch.optim.Adam(model.parameters(), lr=0.001)\n",
        "    if torch.cuda.is_available():\n",
        "        model = model.cuda() \n",
        "\n",
        "    train_accuracy = list()\n",
        "\n",
        "    for exe in range(num_exe):\n",
        "        for epoch in range(num_epochs):\n",
        "            model.train()\n",
        "        train_loss = 0.0\n",
        "        correct = 0\n",
        "        total = 0\n",
        "        i=-1\n",
        "        if chromosome[type_feature_extraction] == 1:\n",
        "            i = 0\n",
        "        elif chromosome[type_feature_extraction] == 2:\n",
        "            i = 1\n",
        "        elif chromosome[type_feature_extraction] == 3:\n",
        "            i = 2\n",
        "\n",
        "        for feature in feature_list:\n",
        "            # Forward pass\n",
        "            outputs = model(feature[i])\n",
        "            loss = criterion(outputs, lbl)\n",
        "\n",
        "            # Backward and optimize\n",
        "            optimizer.zero_grad()\n",
        "            loss.backward()\n",
        "            optimizer.step()\n",
        "            train_loss += loss.item()\n",
        "            _, predicted = outputs.max(1)\n",
        "            total += lbl.size(0)\n",
        "            correct += predicted.eq(lbl).sum().item()\n",
        "\n",
        "        train_loss /= len(train_loader)\n",
        "        train_accuracy.append(correct / total)\n",
        "\n",
        "    # print(f\"Epoch [{epoch + 1}/{num_epochs}], \"\n",
        "    #       f\"Train Loss: {train_loss:.4f}, Train Accuracy: {train_accuracy:.4f}\")\n",
        "\n",
        "    return sum(train_accuracy)/len(train_accuracy)\n",
        "    \n",
        "\n",
        "\n",
        "def feed_Data(chromosomes):\n",
        "    input_size = 512  # Size of the ResNet output feature vector\n",
        "    output_size = 10  # Number of classes in CIFAR-10 dataset\n",
        "    for i in range(len(chromosomes)):\n",
        "        if len(chromosomes[i][hidden_layer]) == 0:\n",
        "            model = MLP_0hidden(input_size, output_size, chromosomes[i][type_activation_function])\n",
        "        elif len(chromosomes[i][hidden_layer]) == 1:\n",
        "            model = MLP_1hidden(input_size, chromosomes[i][hidden_layer], chromosomes[i][type_activation_function])\n",
        "        elif len(chromosomes[i][hidden_layer]) == 2:\n",
        "            model = MLP_2hidden(input_size, chromosomes[i][hidden_layer], chromosomes[i][type_activation_function])\n",
        "        \n",
        "        chromosomes[i][fitness] = train(model, chromosomes[i])\n",
        "    \n",
        "    return chromosomes"
      ]
    },
    {
      "cell_type": "code",
      "execution_count": null,
      "metadata": {
        "id": "yz9M5hBEkdlQ"
      },
      "outputs": [],
      "source": [
        "def evaluate_fitness_population(population):\n",
        "    feed_Data(population)\n",
        "    return population"
      ]
    },
    {
      "cell_type": "code",
      "execution_count": null,
      "metadata": {
        "id": "rW8BfmeWuFSq"
      },
      "outputs": [],
      "source": [
        "def select_parents(population):\n",
        "    num_selected = int(crossover_rate*len(population))\n",
        "    return population[:num_selected]"
      ]
    },
    {
      "cell_type": "code",
      "execution_count": null,
      "metadata": {
        "id": "LVsIYhcbuFSr"
      },
      "outputs": [],
      "source": [
        "def crossover_feature(parent1, parent2):\n",
        "    parent1 , parent2 = parent2 , parent1\n",
        "    return parent1 , parent2"
      ]
    },
    {
      "cell_type": "code",
      "execution_count": null,
      "metadata": {
        "id": "OSamsnwguFSs"
      },
      "outputs": [],
      "source": [
        "def crossover_layer_activation(parent1_layer, parent2_layer, parent1_active, parent2_active):\n",
        "    parent1_len = len(parent1_layer)\n",
        "    parent2_len = len(parent2_layer)\n",
        "    \n",
        "    if parent1_len - parent2_len == -1:\n",
        "        value = parent2_layer.pop()\n",
        "        parent1_layer.append(value)\n",
        "        value = parent2_active.pop()\n",
        "        parent1_active.append(value)\n",
        "\n",
        "    elif parent1_len - parent2_len == 1:\n",
        "        value = parent1_layer.pop()\n",
        "        parent2_layer.append(value)\n",
        "        value = parent1_active.pop()\n",
        "        parent2_active.append(value)\n",
        "\n",
        "    elif parent1_len == parent2_len and parent1_len != 0:\n",
        "        parent1_layer[-1], parent2_layer[-1] = parent2_layer[-1], parent1_layer[-1]\n",
        "        parent1_active[-1], parent2_active[-1] = parent2_active[-1], parent1_active[-1]\n",
        "\n",
        "    elif parent1_len == 0 and parent2_len == 0:\n",
        "        pass\n",
        "    \n",
        "    else:\n",
        "        if parent2_len > parent1_len:\n",
        "            value = parent2_layer.pop()\n",
        "            parent1_layer.append(value)\n",
        "            value = parent2_active.pop()\n",
        "            parent1_active.append(value)\n",
        "        else:\n",
        "            value = parent1_layer.pop()\n",
        "            parent2_layer.append(value)\n",
        "            value = parent1_active.pop()\n",
        "            parent2_active.append(value)\n",
        "    \n",
        "    \n",
        "    return parent1_layer, parent2_layer, parent1_active, parent2_active"
      ]
    },
    {
      "cell_type": "code",
      "execution_count": null,
      "metadata": {
        "id": "0SG-PVzWuFSt"
      },
      "outputs": [],
      "source": [
        "def crossover(parents):\n",
        "    offspring = list()\n",
        "    for i in range(int(len(parents)/2)):\n",
        "        child1 = dict()\n",
        "        child2 = dict()\n",
        "\n",
        "        child1[type_feature_extraction], child2[type_feature_extraction] = crossover_feature(parents[2*i][type_feature_extraction], parents[2*i+1][type_feature_extraction])\n",
        "        child1[hidden_layer], child2[hidden_layer], child1[type_activation_function], child2[type_activation_function] = crossover_layer_activation(parents[2*i][hidden_layer], parents[2*i+1][hidden_layer],parents[2*i][type_activation_function], parents[2*i+1][type_activation_function])\n",
        "\n",
        "        child1[fitness] = 0\n",
        "        child2[fitness] = 0\n",
        "        \n",
        "        offspring.append(child1)\n",
        "        offspring.append(child2)\n",
        "    \n",
        "    return offspring"
      ]
    },
    {
      "cell_type": "code",
      "execution_count": null,
      "metadata": {
        "id": "vfuLc3HluFSu"
      },
      "outputs": [],
      "source": [
        "def mutation_feature(parent):\n",
        "    parent = random.randint(1,3)\n",
        "    return parent"
      ]
    },
    {
      "cell_type": "code",
      "execution_count": null,
      "metadata": {
        "id": "QnYUKUmSuFSv"
      },
      "outputs": [],
      "source": [
        "def mutation_activition(parent):\n",
        "    index = random.randint(0, len(parent)-1)\n",
        "    parent[index] = random.randint(1,2)\n",
        "    return parent"
      ]
    },
    {
      "cell_type": "code",
      "execution_count": null,
      "metadata": {
        "id": "1qvZRMRUuFSv"
      },
      "outputs": [],
      "source": [
        "def mutation_layer(parent):\n",
        "    index = random.randint(0, len(parent)-1)\n",
        "    parent[index] = random.choice([10, 20, 30])\n",
        "    return parent"
      ]
    },
    {
      "cell_type": "code",
      "execution_count": null,
      "metadata": {
        "id": "ei1lWRDCuFSv"
      },
      "outputs": [],
      "source": [
        "def mutate(offspring):\n",
        "    for child in offspring:\n",
        "        if random.uniform(0, 1) <= mutation_rate:\n",
        "            child[type_feature_extraction] = mutation_feature(child[type_feature_extraction])\n",
        "        if random.uniform(0, 1) <= mutation_rate:\n",
        "            child[type_activation_function] = mutation_activition(child[type_activation_function])\n",
        "        if random.uniform(0, 1) <= mutation_rate:\n",
        "            child[hidden_layer] = mutation_layer(child[hidden_layer])\n",
        "    \n",
        "    return offspring"
      ]
    },
    {
      "cell_type": "code",
      "execution_count": null,
      "metadata": {
        "id": "-ZKwg6EWuFSw"
      },
      "outputs": [],
      "source": [
        "def select_survivors(population, offspring):\n",
        "    while(len(offspring) > 0):\n",
        "        best_child = max(offspring, key=lambda x: x[fitness])\n",
        "        bad_parent = min(population, key=lambda x: x[fitness])\n",
        "        if best_child[fitness] > bad_parent[fitness]:\n",
        "            population.remove(bad_parent)\n",
        "            population.append(best_child)\n",
        "            offspring.remove(best_child)\n",
        "        else:\n",
        "            break\n",
        "    \n",
        "    return population"
      ]
    },
    {
      "cell_type": "code",
      "execution_count": null,
      "metadata": {
        "id": "R3IYvCn9IeBf"
      },
      "outputs": [],
      "source": [
        "def genetic_algorithm():\n",
        "    # Initialize population\n",
        "    population = create_chromosomes(num_of_chromosomes)\n",
        "\n",
        "    # Evaluate population fitness\n",
        "    # fitness = accuracy of the model \n",
        "    evaluate_fitness_population(population)\n",
        "\n",
        "    # Sort population\n",
        "    population.sort(key = lambda x: x[fitness])\n",
        "\n",
        "    # While termination condition is not met\n",
        "    for _ in range(num_of_generations):\n",
        "        # Select parents\n",
        "        parents = select_parents(population)\n",
        "\n",
        "        # Apply crossover / mutation operators\n",
        "        offspring = crossover(parents)\n",
        "        mutate(offspring)\n",
        "\n",
        "        # Evaluate offspring\n",
        "        evaluate_fitness_population(offspring)\n",
        "\n",
        "        # Select survivors\n",
        "        population = select_survivors(population, offspring)\n",
        "\n",
        "        # Sort population\n",
        "        population.sort(key = lambda x: x[fitness])\n",
        "\n",
        "    return max(population, key=lambda x: x[fitness])   # Return best individual in population"
      ]
    },
    {
      "cell_type": "code",
      "execution_count": null,
      "metadata": {
        "id": "OdSH-h4SwlJ_"
      },
      "outputs": [],
      "source": [
        "#print(genetic_algorithm())\n",
        "m = genetic_algorithm()\n",
        "print(m)"
      ]
    }
  ],
  "metadata": {
    "accelerator": "GPU",
    "colab": {
      "gpuType": "T4",
      "provenance": []
    },
    "gpuClass": "standard",
    "kernelspec": {
      "display_name": "Python 3",
      "name": "python3"
    },
    "language_info": {
      "codemirror_mode": {
        "name": "ipython",
        "version": 3
      },
      "file_extension": ".py",
      "mimetype": "text/x-python",
      "name": "python",
      "nbconvert_exporter": "python",
      "pygments_lexer": "ipython3",
      "version": "3.10.11"
    }
  },
  "nbformat": 4,
  "nbformat_minor": 0
}
