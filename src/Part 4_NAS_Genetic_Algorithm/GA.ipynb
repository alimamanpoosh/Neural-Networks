{
  "cells": [
    {
      "attachments": {},
      "cell_type": "markdown",
      "metadata": {
        "id": "CpSPZXt8IRjT"
      },
      "source": [
        "NAS implementation\n"
      ]
    },
    {
      "attachments": {},
      "cell_type": "markdown",
      "metadata": {
        "id": "5VxMI9YbIgud"
      },
      "source": [
        "Genetic Algorithm for find the best neural architecture"
      ]
    },
    {
      "attachments": {},
      "cell_type": "markdown",
      "metadata": {
        "id": "cEEsYyrzT_I3"
      },
      "source": [
        "Create population"
      ]
    },
    {
      "cell_type": "code",
      "execution_count": null,
      "metadata": {
        "id": "OYWmfWgDXhCc"
      },
      "outputs": [],
      "source": [
        "import random\n",
        "import torch\n",
        "import torch.nn as nn\n",
        "import torchvision.models as models\n",
        "import torchvision.transforms as transforms\n",
        "import torchvision.datasets as datasets\n",
        "import matplotlib.pyplot as plt"
      ]
    },
    {
      "cell_type": "code",
      "execution_count": null,
      "metadata": {
        "id": "0tNlebIXXmbC"
      },
      "outputs": [],
      "source": [
        "# Define variable type_feature_extraction for feature extraction\n",
        "type_feature_extraction = \"feature extraction\"\n",
        "\n",
        "# Define variable hidden_layer for hidden layer\n",
        "hidden_layer = \"hidden layer\"\n",
        "\n",
        "# Define variable type_activation_function for activation function\n",
        "type_activation_function = \"activation function\"\n",
        "\n",
        "# Define variable fitness to store the fitness value\n",
        "fitness = 'fitness'\n",
        "\n",
        "# Define variable num_of_generations to set the number of generations\n",
        "num_of_generations = 10\n",
        "\n",
        "# Define variable num_of_chromosomes to set the number of chromosomes in each generation\n",
        "num_of_chromosomes = 10\n",
        "\n",
        "# Define variable num_epochs to set the number of epochs\n",
        "num_epochs = 5\n",
        "\n",
        "# Define variable num_exe to set the number of times the training will be executed\n",
        "num_exe = 5\n",
        "\n",
        "# Define variable crossover_rate to select parents for crossover with this rate\n",
        "crossover_rate = 0.8 \n",
        "\n",
        "# Define variable mutation_rate for the rate of mutation\n",
        "mutation_rate = 0.01\n",
        "\n",
        "# Define variable chart_fitness as an empty list to store the fitness values for each generation\n",
        "chart_fitness = []\n"
      ]
    },
    {
      "cell_type": "code",
      "execution_count": null,
      "metadata": {
        "id": "t0cLFGRVJCD2"
      },
      "outputs": [],
      "source": [
        "def chart():\n",
        "    # Generate x-axis values using range() function\n",
        "    x = range(len(chart_fitness))\n",
        "\n",
        "    # Create line plot\n",
        "    plt.plot(x, chart_fitness)\n",
        "\n",
        "    # Add labels and title\n",
        "    plt.xlabel('Generation')\n",
        "    plt.ylabel('AVG Fitness')\n",
        "    plt.title('Average of fitness of chromosomes')\n",
        "\n",
        "    # Show the plot\n",
        "    plt.show()\n"
      ]
    },
    {
      "cell_type": "code",
      "execution_count": null,
      "metadata": {
        "id": "msyQkT_CUIuL"
      },
      "outputs": [],
      "source": [
        "def create_chromosomes(num_chromosomes):\n",
        "    chromosomes = []\n",
        "    for i in range(num_chromosomes):\n",
        "        chro = dict()\n",
        "        chro[type_feature_extraction] = random.randint(1,3)\n",
        "        num_hidden_layer = random.randint(0, 2)\n",
        "        chro[hidden_layer] = [random.choice([10, 20, 30]) for _ in range(num_hidden_layer)]\n",
        "        chro[type_activation_function] = [random.choice([1, 2]) for _ in range(num_hidden_layer + 1)]\n",
        "        chro[fitness] = 0.0\n",
        "        chromosomes.append(chro)\n",
        "\n",
        "    return chromosomes\n"
      ]
    },
    {
      "cell_type": "code",
      "execution_count": null,
      "metadata": {
        "colab": {
          "base_uri": "https://localhost:8080/"
        },
        "id": "Pt7htHBbuFSf",
        "outputId": "677248ee-4dd3-40a8-8860-6fdd7064a398"
      },
      "outputs": [
        {
          "name": "stdout",
          "output_type": "stream",
          "text": [
            "[{'feature extraction': 1, 'hidden layer': [], 'activation function': [1], 'fitness': 0.0}, {'feature extraction': 2, 'hidden layer': [20], 'activation function': [1, 1], 'fitness': 0.0}, {'feature extraction': 1, 'hidden layer': [30], 'activation function': [2, 1], 'fitness': 0.0}, {'feature extraction': 3, 'hidden layer': [20], 'activation function': [1, 2], 'fitness': 0.0}]\n"
          ]
        }
      ],
      "source": [
        "print(create_chromosomes(4))"
      ]
    },
    {
      "attachments": {},
      "cell_type": "markdown",
      "metadata": {
        "id": "BGXJa4JSuFSh"
      },
      "source": [
        "## Models"
      ]
    },
    {
      "cell_type": "code",
      "execution_count": null,
      "metadata": {
        "id": "IFFDxAXIuFSh"
      },
      "outputs": [],
      "source": [
        "class MLP_0hidden(nn.Module):\n",
        "    def __init__(self, output_size, activation):\n",
        "        super(MLP_0hidden, self).__init__()\n",
        "        self.fc1 = nn.LazyLinear(output_size)\n",
        "        # self.activation_output = nn.ReLU() if torch.rand(1) > 0.5 else nn.Sigmoid()\n",
        "        if activation[0] == 1:\n",
        "            self.activation_input = nn.ReLU()\n",
        "        elif activation[0] == 2:\n",
        "            self.activation_input = nn.Sigmoid()\n",
        "        self.activation_output = nn.Softmax(dim=1)\n",
        "\n",
        "    def forward(self, x):\n",
        "        x = self.activation_input(x)\n",
        "        x = self.fc1(x)\n",
        "        x = self.activation_output(x)\n",
        "        return x\n",
        "    \n",
        "\n",
        "class MLP_1hidden(nn.Module):\n",
        "    def __init__(self, hidden_layer, activations):\n",
        "        hidden_size = hidden_layer[0]\n",
        "        output_size = 10\n",
        "        super(MLP_1hidden, self).__init__()\n",
        "        self.fc1 = nn.LazyLinear(hidden_size)\n",
        "        self.fc2 = nn.Linear(hidden_size, output_size)\n",
        "        \n",
        "        if activations[0] == 1:\n",
        "            self.activation_input = nn.ReLU()\n",
        "        elif activations[0] == 2:\n",
        "            self.activation_input = nn.Sigmoid()\n",
        "        \n",
        "        if activations[1] == 1:\n",
        "            self.activation_hidden1 = nn.ReLU()\n",
        "        elif activations[1] == 2:\n",
        "            self.activation_hidden1 = nn.Sigmoid()\n",
        "        \n",
        "        self.activation_output  = nn.Softmax(dim=1)\n",
        "\n",
        "    def forward(self, x):\n",
        "        x = self.activation_input(x)\n",
        "        x = self.fc1(x)\n",
        "        x = self.activation_hidden1(x)\n",
        "        x = self.fc2(x)\n",
        "        x = self.activation_output(x)\n",
        "        return x\n",
        "    \n",
        "\n",
        "\n",
        "class MLP_2hidden(nn.Module):\n",
        "    def __init__(self, hidden_layer, activations):\n",
        "        super(MLP_2hidden, self).__init__()\n",
        "        hidden1_size = hidden_layer[0]\n",
        "        hidden2_size = hidden_layer[1]\n",
        "        output_size = 10\n",
        "        self.fc1 = nn.LazyLinear(hidden1_size)\n",
        "        self.fc2 = nn.Linear(hidden1_size, hidden2_size)\n",
        "        self.fc3 = nn.Linear(hidden2_size, output_size)\n",
        "        \n",
        "        if activations[0] == 1:\n",
        "            self.activation_input = nn.ReLU()\n",
        "        elif activations[0] == 2:\n",
        "            self.activation_input = nn.Sigmoid()\n",
        "            \n",
        "        if activations[1] == 1 :\n",
        "            self.activation_hidden1 = nn.ReLU()\n",
        "        elif activations[1] == 2:\n",
        "            self.activation_hidden1 = nn.Sigmoid()\n",
        "        \n",
        "        if activations[2] == 1:\n",
        "            self.activation_hidden2 = nn.ReLU()\n",
        "        elif activations[2] == 2:\n",
        "            self.activation_hidden2 = nn.Sigmoid()\n",
        "        \n",
        "        \n",
        "        \n",
        "        self.activation_output = nn.Softmax(dim=1)        \n",
        "\n",
        "    def forward(self, x):\n",
        "        x = self.activation_input(x)\n",
        "        x = self.fc1(x)\n",
        "        x = self.activation_hidden1(x)\n",
        "        x = self.fc2(x)\n",
        "        x = self.activation_hidden2(x)\n",
        "        x = self.fc3(x)\n",
        "        x = self.activation_output(x)\n",
        "        return x\n",
        "\n",
        "\n"
      ]
    },
    {
      "cell_type": "code",
      "execution_count": null,
      "metadata": {
        "colab": {
          "base_uri": "https://localhost:8080/"
        },
        "id": "5vnIU-pduFSl",
        "outputId": "7b475910-24a0-433f-8f43-30ae9203af21"
      },
      "outputs": [
        {
          "name": "stdout",
          "output_type": "stream",
          "text": [
            "Downloading https://www.cs.toronto.edu/~kriz/cifar-10-python.tar.gz to ./data/cifar-10-python.tar.gz\n"
          ]
        },
        {
          "name": "stderr",
          "output_type": "stream",
          "text": [
            "100%|██████████| 170498071/170498071 [00:01<00:00, 90545704.84it/s]\n"
          ]
        },
        {
          "name": "stdout",
          "output_type": "stream",
          "text": [
            "Extracting ./data/cifar-10-python.tar.gz to ./data\n",
            "Files already downloaded and verified\n"
          ]
        }
      ],
      "source": [
        "transform = transforms.Compose([\n",
        "    transforms.ToTensor(),\n",
        "    transforms.Normalize((0.5, 0.5, 0.5), (0.5, 0.5, 0.5))\n",
        "])\n",
        "\n",
        "train_dataset = datasets.CIFAR10(root='./data', train=True, download=True, transform=transform)\n",
        "test_dataset = datasets.CIFAR10(root='./data', train=False, download=True, transform=transform)\n",
        "\n",
        "train_loader = torch.utils.data.DataLoader(train_dataset, batch_size=128, shuffle=True)\n",
        "test_loader = torch.utils.data.DataLoader(test_dataset, batch_size=128, shuffle=True)\n",
        "\n",
        "criterion = nn.CrossEntropyLoss()\n",
        "\n",
        "device = torch.device(\"cuda\" if torch.cuda.is_available() else \"cpu\")\n",
        "\n",
        "def train(model, feature_extraction, train_loader):\n",
        "    optimizer = torch.optim.Adam(model.parameters(), lr=0.001)\n",
        "    model = model.to(device)\n",
        "    feature_extraction = feature_extraction.to(device)\n",
        "    feature_extraction.eval()  # Set to evaluation mode (no gradient calculations)\n",
        "\n",
        "    features_labels = []\n",
        "    with torch.no_grad():\n",
        "        for images, labels in train_loader:\n",
        "            images = images.to(device)\n",
        "            labels = labels.to(device)\n",
        "            features = feature_extraction(images)\n",
        "            features = features.view(features.size(0), -1)\n",
        "            features_labels.append([features, labels])\n",
        "\n",
        "    train_accuracy = []\n",
        "\n",
        "    for exe in range(num_exe):\n",
        "        for epoch in range(num_epochs):\n",
        "            train_loss = 0.0\n",
        "            correct = 0\n",
        "            total = 0\n",
        "\n",
        "            for feature, label in features_labels:\n",
        "                outputs = model(feature)\n",
        "                loss = criterion(outputs, label)\n",
        "                optimizer.zero_grad()\n",
        "                loss.backward()\n",
        "                optimizer.step()\n",
        "                train_loss += loss.item()\n",
        "                _, predicted = outputs.max(1)\n",
        "                total += label.size(0)\n",
        "                correct += predicted.eq(label).sum().item()\n",
        "\n",
        "            #train_loss /= len(train_loader)\n",
        "            train_accuracy.append(correct / total)\n",
        "\n",
        "    return sum(train_accuracy) / len(train_accuracy)\n",
        "\n",
        "\n",
        "def feed_Data(chromosomes):\n",
        "    input_size = 512  # Size of the ResNet output feature vector\n",
        "    output_size = 10  # Number of classes in CIFAR-10 dataset\n",
        "\n",
        "    # Preload feature extraction models\n",
        "    feature_extraction_models = {\n",
        "        1: models.resnet18(pretrained=True),\n",
        "        2: models.resnet34(pretrained=True),\n",
        "        3: models.vgg11(pretrained=True)\n",
        "    }\n",
        "\n",
        "    for i in range(len(chromosomes)):\n",
        "        chromosome = chromosomes[i]\n",
        "        if len(chromosome[hidden_layer]) == 0:\n",
        "            model = MLP_0hidden(output_size, chromosome[type_activation_function])\n",
        "        elif len(chromosome[hidden_layer]) == 1:\n",
        "            model = MLP_1hidden(chromosome[hidden_layer], chromosome[type_activation_function])\n",
        "        elif len(chromosome[hidden_layer]) == 2:\n",
        "            model = MLP_2hidden(chromosome[hidden_layer], chromosome[type_activation_function])\n",
        "\n",
        "        feature_extraction = feature_extraction_models[chromosome[type_feature_extraction]]\n",
        "        feature_extraction = nn.Sequential(*list(feature_extraction.children())[:-1])  # Remove the last fully connected layer\n",
        "        # Move feature extraction model to the same device as the model\n",
        "        chromosomes[i][fitness] = train(model, feature_extraction, train_loader)\n",
        "\n",
        "    return chromosomes"
      ]
    },
    {
      "cell_type": "code",
      "execution_count": null,
      "metadata": {
        "id": "yz9M5hBEkdlQ"
      },
      "outputs": [],
      "source": [
        "def evaluate_fitness_population(population):\n",
        "    feed_Data(population)\n",
        "    return population"
      ]
    },
    {
      "cell_type": "code",
      "execution_count": null,
      "metadata": {
        "id": "rW8BfmeWuFSq"
      },
      "outputs": [],
      "source": [
        "def select_parents(population):\n",
        "    num_selected = int(crossover_rate*len(population))\n",
        "    return population[:num_selected]"
      ]
    },
    {
      "cell_type": "code",
      "execution_count": null,
      "metadata": {
        "id": "LVsIYhcbuFSr"
      },
      "outputs": [],
      "source": [
        "def crossover_feature(parent1, parent2):\n",
        "    parent1 , parent2 = parent2 , parent1\n",
        "    return parent1 , parent2"
      ]
    },
    {
      "cell_type": "code",
      "execution_count": null,
      "metadata": {
        "id": "OSamsnwguFSs"
      },
      "outputs": [],
      "source": [
        "def crossover_layer_activation(parent1_layer, parent2_layer, parent1_active, parent2_active):\n",
        "    parent1_len = len(parent1_layer)\n",
        "    parent2_len = len(parent2_layer)\n",
        "    \n",
        "    if parent1_len - parent2_len == -1:\n",
        "        value = parent2_layer.pop()\n",
        "        parent1_layer.append(value)\n",
        "        value = parent2_active.pop()\n",
        "        parent1_active.append(value)\n",
        "\n",
        "    elif parent1_len - parent2_len == 1:\n",
        "        value = parent1_layer.pop()\n",
        "        parent2_layer.append(value)\n",
        "        value = parent1_active.pop()\n",
        "        parent2_active.append(value)\n",
        "\n",
        "    elif parent1_len == parent2_len and parent1_len != 0:\n",
        "        parent1_layer[-1], parent2_layer[-1] = parent2_layer[-1], parent1_layer[-1]\n",
        "        parent1_active[-1], parent2_active[-1] = parent2_active[-1], parent1_active[-1]\n",
        "\n",
        "    elif parent1_len == 0 and parent2_len == 0:\n",
        "        pass\n",
        "    \n",
        "    else:\n",
        "        if parent2_len > parent1_len:\n",
        "            value = parent2_layer.pop()\n",
        "            parent1_layer.append(value)\n",
        "            value = parent2_active.pop()\n",
        "            parent1_active.append(value)\n",
        "        else:\n",
        "            value = parent1_layer.pop()\n",
        "            parent2_layer.append(value)\n",
        "            value = parent1_active.pop()\n",
        "            parent2_active.append(value)\n",
        "    \n",
        "    \n",
        "    return parent1_layer, parent2_layer, parent1_active, parent2_active"
      ]
    },
    {
      "cell_type": "code",
      "execution_count": null,
      "metadata": {
        "id": "0SG-PVzWuFSt"
      },
      "outputs": [],
      "source": [
        "def crossover(parents):\n",
        "    offspring = list()\n",
        "    for i in range(int(len(parents)/2)):\n",
        "        child1 = dict()\n",
        "        child2 = dict()\n",
        "\n",
        "        child1[type_feature_extraction], child2[type_feature_extraction] = crossover_feature(parents[2*i][type_feature_extraction], parents[2*i+1][type_feature_extraction])\n",
        "        child1[hidden_layer], child2[hidden_layer], child1[type_activation_function], child2[type_activation_function] = crossover_layer_activation(parents[2*i][hidden_layer], parents[2*i+1][hidden_layer],parents[2*i][type_activation_function], parents[2*i+1][type_activation_function])\n",
        "\n",
        "        child1[fitness] = 0\n",
        "        child2[fitness] = 0\n",
        "        \n",
        "        offspring.append(child1)\n",
        "        offspring.append(child2)\n",
        "    \n",
        "    return offspring\n",
        "        "
      ]
    },
    {
      "cell_type": "code",
      "execution_count": null,
      "metadata": {
        "id": "vfuLc3HluFSu"
      },
      "outputs": [],
      "source": [
        "def mutation_feature(parent):\n",
        "    parent = random.randint(1,3)\n",
        "    return parent"
      ]
    },
    {
      "cell_type": "code",
      "execution_count": null,
      "metadata": {
        "id": "QnYUKUmSuFSv"
      },
      "outputs": [],
      "source": [
        "def mutation_activition(parent):\n",
        "    index = random.randint(0, len(parent)-1)\n",
        "    parent[index] = random.randint(1,2)\n",
        "    return parent"
      ]
    },
    {
      "cell_type": "code",
      "execution_count": null,
      "metadata": {
        "id": "1qvZRMRUuFSv"
      },
      "outputs": [],
      "source": [
        "def mutation_layer(parent):\n",
        "    index = random.randint(0, len(parent)-1)\n",
        "    parent[index] = random.choice([10, 20, 30])\n",
        "    return parent"
      ]
    },
    {
      "cell_type": "code",
      "execution_count": null,
      "metadata": {
        "id": "ei1lWRDCuFSv"
      },
      "outputs": [],
      "source": [
        "def mutate(offspring):\n",
        "    for child in offspring:\n",
        "        if random.uniform(0, 1) <= mutation_rate:\n",
        "            child[type_feature_extraction] = mutation_feature(child[type_feature_extraction])\n",
        "        if random.uniform(0, 1) <= mutation_rate:\n",
        "            child[type_activation_function] = mutation_activition(child[type_activation_function])\n",
        "        if random.uniform(0, 1) <= mutation_rate:\n",
        "            child[hidden_layer] = mutation_layer(child[hidden_layer])\n",
        "    \n",
        "    return offspring"
      ]
    },
    {
      "cell_type": "code",
      "execution_count": null,
      "metadata": {
        "id": "-ZKwg6EWuFSw"
      },
      "outputs": [],
      "source": [
        "def select_survivors(population, offspring):\n",
        "    while(len(offspring) > 0):\n",
        "        best_child = max(offspring, key=lambda x: x[fitness])\n",
        "        bad_parent = min(population, key=lambda x: x[fitness])\n",
        "        if best_child[fitness] > bad_parent[fitness]:\n",
        "            population.remove(bad_parent)\n",
        "            population.append(best_child)\n",
        "            offspring.remove(best_child)\n",
        "        else:\n",
        "            break\n",
        "    \n",
        "    return population"
      ]
    },
    {
      "cell_type": "code",
      "execution_count": null,
      "metadata": {
        "id": "R3IYvCn9IeBf"
      },
      "outputs": [],
      "source": [
        "def genetic_algorithm():\n",
        "    # Initialize population\n",
        "    population = create_chromosomes(num_of_chromosomes)\n",
        "\n",
        "    # Evaluate population fitness\n",
        "    # fitness = accuracy of the model \n",
        "    evaluate_fitness_population(population)\n",
        "\n",
        "    # Sort population\n",
        "    population.sort(key = lambda x: x[fitness])\n",
        "\n",
        "    print(population)\n",
        "\n",
        "    # While termination condition is not met\n",
        "    for _ in range(num_of_generations):\n",
        "        # Select parents\n",
        "        parents = select_parents(population)\n",
        "\n",
        "        # Apply crossover / mutation operators\n",
        "        offspring = crossover(parents)\n",
        "        mutate(offspring)\n",
        "\n",
        "        # Evaluate offspring\n",
        "        evaluate_fitness_population(offspring)\n",
        "\n",
        "        # Select survivors\n",
        "        population = select_survivors(population, offspring)\n",
        "\n",
        "        # Sort population\n",
        "        population.sort(key = lambda x: x[fitness])\n",
        "\n",
        "        print(population)\n",
        "        print(max(population, key=lambda x: x[fitness]))\n",
        "        mean = sum([x[fitness] for x in population])/len(population)\n",
        "        chart_fitness.append(mean)\n",
        "\n",
        "    chart()\n",
        "    chart_fitness.clear()\n",
        "    \n",
        "    return max(population, key=lambda x: x[fitness])   # Return best individual in population"
      ]
    },
    {
      "cell_type": "code",
      "execution_count": 6,
      "metadata": {
        "colab": {
          "base_uri": "https://localhost:8080/"
        },
        "id": "JeABy9uz85cw",
        "outputId": "f2dc5155-3ae0-423a-c3d6-019afe56165f"
      },
      "outputs": [
        {
          "name": "stdout",
          "output_type": "stream",
          "text": [
            "{'feature extraction': 3, 'hidden layer': [20], 'activation function': [1, 1], 'fitness': 0.6825863999999998}\n",
            "0.44331687999999997\n"
          ]
        }
      ],
      "source": [
        "population = [{'feature extraction': 3, 'hidden layer': [30, 30], 'activation function': [2, 2, 2], 'fitness': 0.09709200000000001}, {'feature extraction': 3, 'hidden layer': [], 'activation function': [2], 'fitness': 0.09999040000000005}, {'feature extraction': 2, 'hidden layer': [20], 'activation function': [2, 2], 'fitness': 0.3952783999999999}, {'feature extraction': 1, 'hidden layer': [10], 'activation function': [1, 1], 'fitness': 0.42075919999999994}, {'feature extraction': 1, 'hidden layer': [30, 30], 'activation function': [1, 2, 1], 'fitness': 0.5034144}, {'feature extraction': 2, 'hidden layer': [30], 'activation function': [1, 2], 'fitness': 0.5189104}, {'feature extraction': 3, 'hidden layer': [30, 20], 'activation function': [2, 1, 2], 'fitness': 0.5197343999999999}, {'feature extraction': 2, 'hidden layer': [30], 'activation function': [1, 1], 'fitness': 0.5295344}, {'feature extraction': 3, 'hidden layer': [20, 30], 'activation function': [1, 1, 2], 'fitness': 0.6658688000000003}, {'feature extraction': 3, 'hidden layer': [20], 'activation function': [1, 1], 'fitness': 0.6825863999999998}]\n",
        "print(max(population, key=lambda x: x['fitness']))\n",
        "mean = sum([x['fitness'] for x in population])/len(population)\n",
        "print(mean)"
      ]
    },
    {
      "cell_type": "code",
      "execution_count": null,
      "metadata": {},
      "outputs": [],
      "source": [
        "x = genetic_algorithm()\n",
        "\n",
        "print('Best NNA: ', x)"
      ]
    }
  ],
  "metadata": {
    "accelerator": "GPU",
    "colab": {
      "gpuType": "T4",
      "provenance": []
    },
    "kernelspec": {
      "display_name": "Python 3",
      "name": "python3"
    },
    "language_info": {
      "codemirror_mode": {
        "name": "ipython",
        "version": 3
      },
      "file_extension": ".py",
      "mimetype": "text/x-python",
      "name": "python",
      "nbconvert_exporter": "python",
      "pygments_lexer": "ipython3",
      "version": "3.10.11"
    }
  },
  "nbformat": 4,
  "nbformat_minor": 0
}
