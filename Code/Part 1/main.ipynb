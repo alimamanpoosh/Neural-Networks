{
  "cells": [
    {
      "cell_type": "code",
      "execution_count": null,
      "metadata": {
        "id": "8sRVUQTFxwpu"
      },
      "outputs": [
        {
          "ename": "",
          "evalue": "",
          "output_type": "error",
          "traceback": [
            "\u001b[1;31mRunning cells with 'c:\\Users\\BARANLAPTOP\\AppData\\Local\\Programs\\Python\\Python39\\python.exe' requires the ipykernel package.\n",
            "\u001b[1;31mRun the following command to install 'ipykernel' into the Python environment. \n",
            "\u001b[1;31mCommand: 'c:/Users/BARANLAPTOP/AppData/Local/Programs/Python/Python39/python.exe -m pip install ipykernel -U --user --force-reinstall'"
          ]
        }
      ],
      "source": [
        "import numpy as np\n",
        "import matplotlib.pyplot as plt\n",
        "Loss_train_adam = []\n",
        "class MultiClassMLP:\n",
        "    def __init__(self, input_dim, hidden_dims, output_dim, activation='relu', random_seed=42):\n",
        "        self.input_dim = input_dim\n",
        "        self.hidden_dims = hidden_dims\n",
        "        self.output_dim = output_dim\n",
        "        self.layers = []\n",
        "        self.num_layers = len(hidden_dims) + 1\n",
        "        parameters = {}\n",
        "\n",
        "        # Initialize weights and biases for each layer\n",
        "        np.random.seed(random_seed)\n",
        "        layer_dims = [input_dim] + hidden_dims + [output_dim]\n",
        "        self.activations = [\n",
        "            self._sigmoid if activation == 'sigmoid' else self._tanh if activation == 'tanh' else self._relu for i in\n",
        "            range(self.num_layers)]\n",
        "        for i in range(self.num_layers):\n",
        "            fan_in = layer_dims[i]\n",
        "            fan_out = layer_dims[i + 1]\n",
        "            W = np.random.randn(fan_in, fan_out) / np.sqrt(fan_in)\n",
        "            b = np.zeros((1, fan_out))\n",
        "            self.layers.append({'W': W, 'b': b})\n",
        "\n",
        "    def update_parameters(self):\n",
        "        self.parameters = {}\n",
        "        for counter, i in enumerate(self.layers):\n",
        "            self.parameters.update({\"W\" + str(counter + 1): i[\"W\"], \"b\" + str(counter + 1): i[\"b\"]})\n",
        "\n",
        "    def update_layers(self):\n",
        "        for i in range(self.num_layers):\n",
        "            self.layers[i]['W'] = self.parameters[\"W\" + str(i + 1)]\n",
        "            self.layers[i]['b'] = self.parameters[\"b\" + str(i + 1)]\n",
        "\n",
        "    def _softmax(self, X):\n",
        "        exps = np.exp(X - np.max(X, axis=1, keepdims=True))\n",
        "        return exps / np.sum(exps, axis=1, keepdims=True)\n",
        "\n",
        "    def _tanh(self, X):\n",
        "        return np.tanh(X)\n",
        "\n",
        "    def _sigmoid(self, X):\n",
        "        return 1 / (1 + np.exp(-X))\n",
        "\n",
        "    def _relu(self, X):\n",
        "        return np.maximum(0, X)\n",
        "\n",
        "    def _forward(self, X):\n",
        "        activations = [X]\n",
        "        for i in range(self.num_layers):\n",
        "            Z = np.dot(activations[-1], self.layers[i]['W']) + self.layers[i]['b']\n",
        "            A = self.activations[i](Z)\n",
        "            activations.append(A)\n",
        "        probs = self._softmax(activations[-1])  # Using softmax activation function for output layer\n",
        "        return activations, probs\n",
        "\n",
        "    def _backward(self, X, y, activations, probs, learning_rate):\n",
        "        grads = {}\n",
        "        dL_dO = probs - y\n",
        "        for i in reversed(range(self.num_layers)):\n",
        "            if self.activations[i] == self._sigmoid:\n",
        "                dA = dL_dO * activations[i + 1] * (1 - activations[i + 1])\n",
        "            elif self.activations[i] == self._tanh:\n",
        "                dA = dL_dO * (1 - activations[i + 1] ** 2)  # Derivative of tanh activation function\n",
        "            elif self.activations[i] == self._relu:\n",
        "                dA = dL_dO * np.where(activations[i + 1] > 0, 1, 0)  # Derivative of ReLU activation function\n",
        "            else:\n",
        "                raise ValueError(\"Invalid activation function\")\n",
        "\n",
        "            dZ = np.dot(dA, self.layers[i]['W'].T)\n",
        "            dW = np.dot(activations[i].T, dA)\n",
        "            db = np.sum(dA, axis=0, keepdims=True)\n",
        "            grads.update({\"dW\" + str(i + 1): dW, \"db\" + str(i + 1): db})\n",
        "            # self.layers[i]['W'] -= learning_rate * dW\n",
        "            # self.layers[i]['b'] -= learning_rate * db\n",
        "\n",
        "            dL_dO = dZ\n",
        "        return grads\n",
        "\n",
        "    def initialize_adam(self, parameters):\n",
        "        L = len(parameters) // 2\n",
        "        v = {}\n",
        "        s = {}\n",
        "        for l in range(L):\n",
        "            v[\"dW\" + str(l + 1)] = np.zeros(\n",
        "                (parameters[\"W\" + str(l + 1)].shape[0], parameters[\"W\" + str(l + 1)].shape[1]))\n",
        "            v[\"db\" + str(l + 1)] = np.zeros(\n",
        "                (parameters[\"b\" + str(l + 1)].shape[0], parameters[\"b\" + str(l + 1)].shape[1]))\n",
        "            s[\"dW\" + str(l + 1)] = np.zeros(\n",
        "                (parameters[\"W\" + str(l + 1)].shape[0], parameters[\"W\" + str(l + 1)].shape[1]))\n",
        "            s[\"db\" + str(l + 1)] = np.zeros(\n",
        "                (parameters[\"b\" + str(l + 1)].shape[0], parameters[\"b\" + str(l + 1)].shape[1]))\n",
        "        return v, s\n",
        "\n",
        "    def update_parameters_with_adam(self, parameters, grads, v, s, t, learning_rate=0.01, beta1=0.9, beta2=0.999,\n",
        "                                    epsilon=1e-8):\n",
        "        \"\"\"\n",
        "        Update parameters using Adam\n",
        "\n",
        "        Arguments:\n",
        "        parameters -- python dictionary containing your parameters:\n",
        "                        parameters['W' + str(l)] = Wl\n",
        "                        parameters['b' + str(l)] = bl\n",
        "        grads -- python dictionary containing your gradients for each parameters:\n",
        "                        grads['dW' + str(l)] = dWl\n",
        "                        grads['db' + str(l)] = dbl\n",
        "        v -- Adam variable, moving average of the first gradient, python dictionary\n",
        "        s -- Adam variable, moving average of the squared gradient, python dictionary\n",
        "        learning_rate -- the learning rate, scalar.\n",
        "        beta1 -- Exponential decay hyperparameter for the first moment estimates\n",
        "        beta2 -- Exponential decay hyperparameter for the second moment estimates\n",
        "        epsilon -- hyperparameter preventing division by zero in Adam updates\n",
        "\n",
        "        Returns:\n",
        "        parameters -- python dictionary containing your updated parameters\n",
        "        v -- Adam variable, moving average of the first gradient, python dictionary\n",
        "        s -- Adam variable, moving average of the squared gradient, python dictionary\n",
        "        \"\"\"\n",
        "\n",
        "        L = len(parameters) // 2  # number of layers in the neural networks\n",
        "        v_corrected = {}  # Initializing first moment estimate, python dictionary\n",
        "        s_corrected = {}  # Initializing second moment estimate, python dictionary\n",
        "\n",
        "        # Perform Adam update on all parameters\n",
        "        for l in range(L):\n",
        "            # Moving average of the gradients. Inputs: \"v, grads, beta1\". Output: \"v\".\n",
        "            ### START CODE HERE ### (approx. 2 lines)\n",
        "            v[\"dW\" + str(l + 1)] = beta1 * v[\"dW\" + str(l + 1)] + (1 - beta1) * grads['dW' + str(l + 1)]\n",
        "            v[\"db\" + str(l + 1)] = beta1 * v[\"db\" + str(l + 1)] + (1 - beta1) * grads['db' + str(l + 1)]\n",
        "            ### END CODE HERE ###\n",
        "\n",
        "            # Compute bias-corrected first moment estimate. Inputs: \"v, beta1, t\". Output: \"v_corrected\".\n",
        "            ### START CODE HERE ### (approx. 2 lines)\n",
        "            v_corrected[\"dW\" + str(l + 1)] = v[\"dW\" + str(l + 1)] / (1 - beta1 ** t)\n",
        "            v_corrected[\"db\" + str(l + 1)] = v[\"db\" + str(l + 1)] / (1 - beta1 ** t)\n",
        "            ### END CODE HERE ###\n",
        "\n",
        "            # Moving average of the squared gradients. Inputs: \"s, grads, beta2\". Output: \"s\".\n",
        "            ### START CODE HERE ### (approx. 2 lines)\n",
        "            s[\"dW\" + str(l + 1)] = beta2 * s[\"dW\" + str(l + 1)] + (1 - beta2) * np.square(grads['dW' + str(l + 1)])\n",
        "            s[\"db\" + str(l + 1)] = beta2 * s[\"db\" + str(l + 1)] + (1 - beta2) * np.square(grads['db' + str(l + 1)])\n",
        "            ### END CODE HERE ###\n",
        "\n",
        "            # Compute bias-corrected second raw moment estimate. Inputs: \"s, beta2, t\". Output: \"s_corrected\".\n",
        "            ### START CODE HERE ### (approx. 2 lines)\n",
        "            s_corrected[\"dW\" + str(l + 1)] = s[\"dW\" + str(l + 1)] / (1 - beta2 ** t)\n",
        "            s_corrected[\"db\" + str(l + 1)] = s[\"db\" + str(l + 1)] / (1 - beta2 ** t)\n",
        "            ### END CODE HERE ###\n",
        "\n",
        "            # Update parameters. Inputs: \"parameters, learning_rate, v_corrected, s_corrected, epsilon\". Output: \"parameters\".\n",
        "            ### START CODE HERE ### (approx. 2 lines)\n",
        "            parameters[\"W\" + str(l + 1)] = parameters[\"W\" + str(l + 1)] - learning_rate * v_corrected[\n",
        "                \"dW\" + str(l + 1)] / (np.sqrt(s_corrected[\"dW\" + str(l + 1)]) + epsilon)\n",
        "            parameters[\"b\" + str(l + 1)] = parameters[\"b\" + str(l + 1)] - learning_rate * v_corrected[\n",
        "                \"db\" + str(l + 1)] / (np.sqrt(s_corrected[\"db\" + str(l + 1)]) + epsilon)\n",
        "            ### END CODE HERE ###\n",
        "\n",
        "        return parameters, v, s\n",
        "\n",
        "    def train(self, X_train, y_train, learning_rate=0.0007, mini_batch_size=64, beta=0.9,\n",
        "              beta1=0.9, beta2=0.999, epsilon=1e-8, num_epochs=10000, print_cost=True):\n",
        "        Y_train = np.eye(self.output_dim)[y_train]\n",
        "        t = 0\n",
        "        self.update_parameters()\n",
        "        v, s = self.initialize_adam(self.parameters)\n",
        "        for epoch in range(num_epochs):\n",
        "            activations, probs = self._forward(X_train)\n",
        "            grads = self._backward(X_train, Y_train, activations, probs, learning_rate)\n",
        "            self.update_parameters()\n",
        "            t = t + 1\n",
        "            self.parameters, v, s = self.update_parameters_with_adam(self.parameters, grads, v, s,\n",
        "                                                                t, learning_rate, beta1, beta2, epsilon)\n",
        "            self.update_layers()\n",
        "            loss = -np.sum(Y_train * np.log(probs)) / X_train.shape[0]\n",
        "            if epoch % 10 == 0:\n",
        "                Loss_train_adam.append(loss)\n",
        "                print(f\"Epoch {epoch}: Loss={loss:.4f}\")\n",
        "\n",
        "    def predict_proba(self, X):\n",
        "        _, probs = self._forward(X)\n",
        "        return probs\n",
        "\n",
        "    def predict(self, X):\n",
        "        probs = self.predict_proba(X)\n",
        "        return np.argmax(probs, axis=1)\n",
        "\n",
        "\n",
        "    \n"
      ]
    },
    {
      "cell_type": "code",
      "execution_count": null,
      "metadata": {
        "colab": {
          "base_uri": "https://localhost:8080/"
        },
        "id": "6qMq81U3yFpD",
        "outputId": "a590d4cb-79e6-4c66-f0a3-83fa4bc1e50a"
      },
      "outputs": [
        {
          "ename": "",
          "evalue": "",
          "output_type": "error",
          "traceback": [
            "\u001b[1;31mRunning cells with 'c:\\Users\\BARANLAPTOP\\AppData\\Local\\Programs\\Python\\Python39\\python.exe' requires the ipykernel package.\n",
            "\u001b[1;31mRun the following command to install 'ipykernel' into the Python environment. \n",
            "\u001b[1;31mCommand: 'c:/Users/BARANLAPTOP/AppData/Local/Programs/Python/Python39/python.exe -m pip install ipykernel -U --user --force-reinstall'"
          ]
        }
      ],
      "source": [
        "transform = transforms.Compose([\n",
        "    transforms.ToTensor(),\n",
        "    transforms.Normalize((0.5, 0.5, 0.5), (0.5, 0.5, 0.5))\n",
        "    ])\n",
        "feature_extractor = resnet34(pretrained=True)\n",
        "input_dim = feature_extractor.fc.in_features\n",
        "for param in feature_extractor.parameters():\n",
        "  param.requires_grad = False\n",
        "\n",
        "feature_extractor.fc = nn.Identity()"
      ]
    },
    {
      "cell_type": "code",
      "execution_count": null,
      "metadata": {
        "colab": {
          "base_uri": "https://localhost:8080/"
        },
        "id": "UTwdpv59yGBC",
        "outputId": "274c1781-0488-4102-9a01-874672b195d9"
      },
      "outputs": [
        {
          "ename": "",
          "evalue": "",
          "output_type": "error",
          "traceback": [
            "\u001b[1;31mRunning cells with 'c:\\Users\\BARANLAPTOP\\AppData\\Local\\Programs\\Python\\Python39\\python.exe' requires the ipykernel package.\n",
            "\u001b[1;31mRun the following command to install 'ipykernel' into the Python environment. \n",
            "\u001b[1;31mCommand: 'c:/Users/BARANLAPTOP/AppData/Local/Programs/Python/Python39/python.exe -m pip install ipykernel -U --user --force-reinstall'"
          ]
        }
      ],
      "source": [
        "train_data = datasets.CIFAR10('data', train=True,\n",
        "                              download=True, transform=transform)\n",
        "test_data = datasets.CIFAR10('data', train=False,\n",
        "                             download=True, transform=transform)"
      ]
    },
    {
      "cell_type": "code",
      "execution_count": null,
      "metadata": {
        "id": "Hckp6Q-LyIhY"
      },
      "outputs": [
        {
          "ename": "",
          "evalue": "",
          "output_type": "error",
          "traceback": [
            "\u001b[1;31mRunning cells with 'c:\\Users\\BARANLAPTOP\\AppData\\Local\\Programs\\Python\\Python39\\python.exe' requires the ipykernel package.\n",
            "\u001b[1;31mRun the following command to install 'ipykernel' into the Python environment. \n",
            "\u001b[1;31mCommand: 'c:/Users/BARANLAPTOP/AppData/Local/Programs/Python/Python39/python.exe -m pip install ipykernel -U --user --force-reinstall'"
          ]
        }
      ],
      "source": [
        "from torch.utils.data import DataLoader"
      ]
    },
    {
      "cell_type": "code",
      "execution_count": null,
      "metadata": {
        "id": "4oLQvp-OyLeT"
      },
      "outputs": [
        {
          "ename": "",
          "evalue": "",
          "output_type": "error",
          "traceback": [
            "\u001b[1;31mRunning cells with 'c:\\Users\\BARANLAPTOP\\AppData\\Local\\Programs\\Python\\Python39\\python.exe' requires the ipykernel package.\n",
            "\u001b[1;31mRun the following command to install 'ipykernel' into the Python environment. \n",
            "\u001b[1;31mCommand: 'c:/Users/BARANLAPTOP/AppData/Local/Programs/Python/Python39/python.exe -m pip install ipykernel -U --user --force-reinstall'"
          ]
        }
      ],
      "source": [
        "train_loader = DataLoader(train_data, batch_size=64, shuffle=True)\n",
        "test_loader = DataLoader(test_data, batch_size=64, shuffle=True)"
      ]
    },
    {
      "cell_type": "code",
      "execution_count": null,
      "metadata": {
        "colab": {
          "base_uri": "https://localhost:8080/"
        },
        "id": "DqxXXgD8yN1b",
        "outputId": "ba4c810a-d06d-4a84-ba68-cd8b8e62b7c0"
      },
      "outputs": [
        {
          "ename": "",
          "evalue": "",
          "output_type": "error",
          "traceback": [
            "\u001b[1;31mRunning cells with 'c:\\Users\\BARANLAPTOP\\AppData\\Local\\Programs\\Python\\Python39\\python.exe' requires the ipykernel package.\n",
            "\u001b[1;31mRun the following command to install 'ipykernel' into the Python environment. \n",
            "\u001b[1;31mCommand: 'c:/Users/BARANLAPTOP/AppData/Local/Programs/Python/Python39/python.exe -m pip install ipykernel -U --user --force-reinstall'"
          ]
        }
      ],
      "source": [
        "embeddings = []\n",
        "labels = []\n",
        "i = 0\n",
        "for x, y in train_loader:\n",
        "  if i == 50:\n",
        "    break\n",
        "  i += 1\n",
        "  print(i)\n",
        "  embeddings += feature_extractor(x)\n",
        "  labels += y"
      ]
    },
    {
      "cell_type": "code",
      "execution_count": null,
      "metadata": {
        "colab": {
          "base_uri": "https://localhost:8080/"
        },
        "id": "OtvEpsKsy-Re",
        "outputId": "efb79756-f4fe-4df7-d858-e6e6ae1924b1"
      },
      "outputs": [
        {
          "ename": "",
          "evalue": "",
          "output_type": "error",
          "traceback": [
            "\u001b[1;31mRunning cells with 'c:\\Users\\BARANLAPTOP\\AppData\\Local\\Programs\\Python\\Python39\\python.exe' requires the ipykernel package.\n",
            "\u001b[1;31mRun the following command to install 'ipykernel' into the Python environment. \n",
            "\u001b[1;31mCommand: 'c:/Users/BARANLAPTOP/AppData/Local/Programs/Python/Python39/python.exe -m pip install ipykernel -U --user --force-reinstall'"
          ]
        }
      ],
      "source": [
        "len(next(iter(train_loader))[0])"
      ]
    },
    {
      "cell_type": "code",
      "execution_count": null,
      "metadata": {
        "colab": {
          "base_uri": "https://localhost:8080/"
        },
        "id": "qmqQtpx1zd9V",
        "outputId": "9433bc45-5051-45de-b910-095d6f0a8ba4"
      },
      "outputs": [
        {
          "ename": "",
          "evalue": "",
          "output_type": "error",
          "traceback": [
            "\u001b[1;31mRunning cells with 'c:\\Users\\BARANLAPTOP\\AppData\\Local\\Programs\\Python\\Python39\\python.exe' requires the ipykernel package.\n",
            "\u001b[1;31mRun the following command to install 'ipykernel' into the Python environment. \n",
            "\u001b[1;31mCommand: 'c:/Users/BARANLAPTOP/AppData/Local/Programs/Python/Python39/python.exe -m pip install ipykernel -U --user --force-reinstall'"
          ]
        }
      ],
      "source": [
        "len(embeddings)"
      ]
    },
    {
      "cell_type": "code",
      "execution_count": null,
      "metadata": {
        "colab": {
          "base_uri": "https://localhost:8080/"
        },
        "id": "NAT7vrjl49wl",
        "outputId": "1978ab65-e543-4e7c-cd10-b201258e29cf"
      },
      "outputs": [
        {
          "ename": "",
          "evalue": "",
          "output_type": "error",
          "traceback": [
            "\u001b[1;31mRunning cells with 'c:\\Users\\BARANLAPTOP\\AppData\\Local\\Programs\\Python\\Python39\\python.exe' requires the ipykernel package.\n",
            "\u001b[1;31mRun the following command to install 'ipykernel' into the Python environment. \n",
            "\u001b[1;31mCommand: 'c:/Users/BARANLAPTOP/AppData/Local/Programs/Python/Python39/python.exe -m pip install ipykernel -U --user --force-reinstall'"
          ]
        }
      ],
      "source": [
        "labels"
      ]
    },
    {
      "cell_type": "code",
      "execution_count": null,
      "metadata": {
        "colab": {
          "base_uri": "https://localhost:8080/"
        },
        "id": "n9W9yPMj4uql",
        "outputId": "80a002bc-3c4f-4706-a882-3407d3bfe349"
      },
      "outputs": [
        {
          "ename": "",
          "evalue": "",
          "output_type": "error",
          "traceback": [
            "\u001b[1;31mRunning cells with 'c:\\Users\\BARANLAPTOP\\AppData\\Local\\Programs\\Python\\Python39\\python.exe' requires the ipykernel package.\n",
            "\u001b[1;31mRun the following command to install 'ipykernel' into the Python environment. \n",
            "\u001b[1;31mCommand: 'c:/Users/BARANLAPTOP/AppData/Local/Programs/Python/Python39/python.exe -m pip install ipykernel -U --user --force-reinstall'"
          ]
        }
      ],
      "source": [
        "# data_tensor = torch.cat(embeddings, dim=0)\n",
        "\n",
        "# Convert the tensor to a NumPy array\n",
        "X = np.array(embeddings)\n",
        "# data_tensor = torch.cat(labels, dim=0)\n",
        "for i in range(len(X)):\n",
        "  X[i] = np.array(X[i])\n",
        "# Convert the tensor to a NumPy array\n",
        "Y = np.array(labels)"
      ]
    },
    {
      "cell_type": "code",
      "execution_count": null,
      "metadata": {
        "colab": {
          "base_uri": "https://localhost:8080/"
        },
        "id": "8Txs29uJ5pf2",
        "outputId": "8e38c21c-5466-439c-8c3f-8ecc2942838c"
      },
      "outputs": [
        {
          "ename": "",
          "evalue": "",
          "output_type": "error",
          "traceback": [
            "\u001b[1;31mRunning cells with 'c:\\Users\\BARANLAPTOP\\AppData\\Local\\Programs\\Python\\Python39\\python.exe' requires the ipykernel package.\n",
            "\u001b[1;31mRun the following command to install 'ipykernel' into the Python environment. \n",
            "\u001b[1;31mCommand: 'c:/Users/BARANLAPTOP/AppData/Local/Programs/Python/Python39/python.exe -m pip install ipykernel -U --user --force-reinstall'"
          ]
        }
      ],
      "source": [
        "result = []\n",
        "for i in X:\n",
        "  result.append(i)\n",
        "result = np.array(result)\n",
        "result.shape"
      ]
    },
    {
      "cell_type": "code",
      "execution_count": null,
      "metadata": {
        "colab": {
          "base_uri": "https://localhost:8080/"
        },
        "id": "Nyz10IPmD-FC",
        "outputId": "36a60f90-1269-4ee1-d942-6b52bf391670"
      },
      "outputs": [
        {
          "ename": "",
          "evalue": "",
          "output_type": "error",
          "traceback": [
            "\u001b[1;31mRunning cells with 'c:\\Users\\BARANLAPTOP\\AppData\\Local\\Programs\\Python\\Python39\\python.exe' requires the ipykernel package.\n",
            "\u001b[1;31mRun the following command to install 'ipykernel' into the Python environment. \n",
            "\u001b[1;31mCommand: 'c:/Users/BARANLAPTOP/AppData/Local/Programs/Python/Python39/python.exe -m pip install ipykernel -U --user --force-reinstall'"
          ]
        }
      ],
      "source": [
        "Y.flatten().shape"
      ]
    },
    {
      "cell_type": "code",
      "execution_count": null,
      "metadata": {
        "colab": {
          "base_uri": "https://localhost:8080/"
        },
        "id": "2nOciu92XM2k",
        "outputId": "7b505d9a-5cf5-4d5a-a44e-e2af2d89b5e1"
      },
      "outputs": [
        {
          "ename": "",
          "evalue": "",
          "output_type": "error",
          "traceback": [
            "\u001b[1;31mRunning cells with 'c:\\Users\\BARANLAPTOP\\AppData\\Local\\Programs\\Python\\Python39\\python.exe' requires the ipykernel package.\n",
            "\u001b[1;31mRun the following command to install 'ipykernel' into the Python environment. \n",
            "\u001b[1;31mCommand: 'c:/Users/BARANLAPTOP/AppData/Local/Programs/Python/Python39/python.exe -m pip install ipykernel -U --user --force-reinstall'"
          ]
        }
      ],
      "source": [
        "from sklearn.neural_network import MLPClassifier\n",
        "clf = MLPClassifier(random_state=1, max_iter=1000, hidden_layer_sizes=[20]).fit(result, Y)\n",
        "clf.score(result, Y)"
      ]
    },
    {
      "cell_type": "code",
      "execution_count": null,
      "metadata": {},
      "outputs": [
        {
          "ename": "",
          "evalue": "",
          "output_type": "error",
          "traceback": [
            "\u001b[1;31mRunning cells with 'c:\\Users\\BARANLAPTOP\\AppData\\Local\\Programs\\Python\\Python39\\python.exe' requires the ipykernel package.\n",
            "\u001b[1;31mRun the following command to install 'ipykernel' into the Python environment. \n",
            "\u001b[1;31mCommand: 'c:/Users/BARANLAPTOP/AppData/Local/Programs/Python/Python39/python.exe -m pip install ipykernel -U --user --force-reinstall'"
          ]
        }
      ],
      "source": [
        "def chart():\n",
        "    # Generate x-axis values using range() function\n",
        "    x = range(len(Loss_train_adam))\n",
        "\n",
        "    # Create line plot\n",
        "    plt.plot(x, Loss_train_adam)\n",
        "\n",
        "    # Add labels and title\n",
        "    plt.xlabel('Epochs')\n",
        "    plt.ylabel('Loss')\n",
        "    plt.title('Loss vs. Epochs for Adam Optimizer')\n",
        "\n",
        "    # Show the plot\n",
        "    plt.show()"
      ]
    },
    {
      "cell_type": "code",
      "execution_count": null,
      "metadata": {
        "colab": {
          "base_uri": "https://localhost:8080/"
        },
        "id": "ITizemtm2TzR",
        "outputId": "aa6ff0f0-596b-4719-a337-f56e6f420205"
      },
      "outputs": [
        {
          "ename": "",
          "evalue": "",
          "output_type": "error",
          "traceback": [
            "\u001b[1;31mRunning cells with 'c:\\Users\\BARANLAPTOP\\AppData\\Local\\Programs\\Python\\Python39\\python.exe' requires the ipykernel package.\n",
            "\u001b[1;31mRun the following command to install 'ipykernel' into the Python environment. \n",
            "\u001b[1;31mCommand: 'c:/Users/BARANLAPTOP/AppData/Local/Programs/Python/Python39/python.exe -m pip install ipykernel -U --user --force-reinstall'"
          ]
        }
      ],
      "source": [
        "mlp = MultiClassMLP(input_dim=512, hidden_dims=[100], output_dim=10, activation=\"tanh\")\n",
        "mlp.train(result, Y, num_epochs=1000)\n",
        "chart()\n"
      ]
    },
    {
      "cell_type": "code",
      "execution_count": null,
      "metadata": {
        "colab": {
          "base_uri": "https://localhost:8080/"
        },
        "id": "ArEkZbY-f8xY",
        "outputId": "f893b884-7733-49fd-f0e2-008d23569e12"
      },
      "outputs": [
        {
          "ename": "",
          "evalue": "",
          "output_type": "error",
          "traceback": [
            "\u001b[1;31mRunning cells with 'c:\\Users\\BARANLAPTOP\\AppData\\Local\\Programs\\Python\\Python39\\python.exe' requires the ipykernel package.\n",
            "\u001b[1;31mRun the following command to install 'ipykernel' into the Python environment. \n",
            "\u001b[1;31mCommand: 'c:/Users/BARANLAPTOP/AppData/Local/Programs/Python/Python39/python.exe -m pip install ipykernel -U --user --force-reinstall'"
          ]
        }
      ],
      "source": [
        "counter = 0\n",
        "for i, t in enumerate(result):\n",
        "  if mlp.predict(t) == Y[i]:\n",
        "    counter += 1\n",
        "print(counter / len(result))"
      ]
    },
    {
      "cell_type": "code",
      "execution_count": null,
      "metadata": {
        "colab": {
          "base_uri": "https://localhost:8080/"
        },
        "id": "lel9G6Ip3cYg",
        "outputId": "5f75c4a1-fdfb-4344-f8a6-783b93aa7bd0"
      },
      "outputs": [
        {
          "ename": "",
          "evalue": "",
          "output_type": "error",
          "traceback": [
            "\u001b[1;31mRunning cells with 'c:\\Users\\BARANLAPTOP\\AppData\\Local\\Programs\\Python\\Python39\\python.exe' requires the ipykernel package.\n",
            "\u001b[1;31mRun the following command to install 'ipykernel' into the Python environment. \n",
            "\u001b[1;31mCommand: 'c:/Users/BARANLAPTOP/AppData/Local/Programs/Python/Python39/python.exe -m pip install ipykernel -U --user --force-reinstall'"
          ]
        }
      ],
      "source": [
        "X_train = np.random.randn(100, 10)\n",
        "y_train = np.random.randint(0, 5, size=100)\n",
        "# Y_train = np.eye(5)[y_train]\n",
        "\n",
        "# Initialize and train the MLP\n",
        "mlp2 = MultiClassMLP(input_dim=10, hidden_dims=[20], output_dim=5, activation=\"sigmoid\")\n",
        "mlp2.train(X_train, y_train, learning_rate=0.1, num_epochs=1000)"
      ]
    },
    {
      "cell_type": "code",
      "execution_count": null,
      "metadata": {
        "id": "QTcr5l_7Ufnc"
      },
      "outputs": [
        {
          "ename": "",
          "evalue": "",
          "output_type": "error",
          "traceback": [
            "\u001b[1;31mRunning cells with 'c:\\Users\\BARANLAPTOP\\AppData\\Local\\Programs\\Python\\Python39\\python.exe' requires the ipykernel package.\n",
            "\u001b[1;31mRun the following command to install 'ipykernel' into the Python environment. \n",
            "\u001b[1;31mCommand: 'c:/Users/BARANLAPTOP/AppData/Local/Programs/Python/Python39/python.exe -m pip install ipykernel -U --user --force-reinstall'"
          ]
        }
      ],
      "source": []
    }
  ],
  "metadata": {
    "colab": {
      "provenance": []
    },
    "kernelspec": {
      "display_name": "Python 3",
      "name": "python3"
    },
    "language_info": {
      "codemirror_mode": {
        "name": "ipython",
        "version": 3
      },
      "file_extension": ".py",
      "mimetype": "text/x-python",
      "name": "python",
      "nbconvert_exporter": "python",
      "pygments_lexer": "ipython3",
      "version": "3.9.7"
    }
  },
  "nbformat": 4,
  "nbformat_minor": 0
}
